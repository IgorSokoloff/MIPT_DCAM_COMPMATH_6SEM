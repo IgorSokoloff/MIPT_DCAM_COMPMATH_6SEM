{
 "cells": [
  {
   "cell_type": "markdown",
   "metadata": {},
   "source": [
    "# Task 2 б) \n",
    "## Made by Igor Sokolov from 476 group\n"
   ]
  },
  {
   "cell_type": "markdown",
   "metadata": {},
   "source": [
    "Solve this stiff problem\n",
    "\n",
    "$$y'(t)=50(cost-y^3(t)), \\hspace{10mm} 0\\leq t\\leq 20$$\n",
    "$$y(0)=0$$\n",
    "\n",
    "using Diagonal-implicit method"
   ]
  },
  {
   "cell_type": "code",
   "execution_count": 3,
   "metadata": {
    "collapsed": true
   },
   "outputs": [],
   "source": [
    "import matplotlib.pyplot as plt\n",
    "import matplotlib.patches as patches\n",
    "import numpy as np\n",
    "import math\n",
    "%matplotlib inline"
   ]
  },
  {
   "cell_type": "code",
   "execution_count": 5,
   "metadata": {
    "collapsed": false
   },
   "outputs": [
    {
     "name": "stdout",
     "output_type": "stream",
     "text": [
      "Неявный Эйлер, всего шагов: 200\n"
     ]
    },
    {
     "data": {
      "image/png": "[encoded data removed]",
      "text/plain": [
       "<matplotlib.figure.Figure at 0x5f0d0b8>"
      ]
     },
     "metadata": {},
     "output_type": "display_data"
    }
   ],
   "source": [
    "\n",
    "def func_f(t, y, jac=False):\n",
    "    if jac:\n",
    "        return (50.0 * (3.0 * y ** 2))\n",
    "    return 50.0 * (math.cos(t) + y ** 3)\n",
    "\n",
    "\n",
    "def newton(F, dFdx, x0):\n",
    "    #print \"F, dFdx \", F, dFdx\n",
    "    #raw_input()\n",
    "    x1 = x0\n",
    "    x2 = x1\n",
    "    x_list = []\n",
    "    x_list.append(x1)\n",
    "    for it in range(100):\n",
    "        x2 = x1\n",
    "        x1 = x1 - F(x1)/dFdx(x1)\n",
    "        dx = abs(x2-x1)\n",
    "        x_list.append(x1)\n",
    "\n",
    "        if dx < 1e-12:\n",
    "            return x1\n",
    "    #print('Максимальное число итераций превышено!')\n",
    "    return x1\n",
    "\n",
    "\n",
    "# Добавим вычисление производной, необходимой для метода Ньютона\n",
    "\n",
    "def imeuler(f, h, t, u):\n",
    "   #E = np.eye(len(u))\n",
    "\n",
    "    # print \"t, u =\", t, u\n",
    "    k1 = newton(\n",
    "        lambda k: k - f(t + h, u + h * k),  # Уравнение k-f(t+h,u+h*k) = 0\n",
    "        lambda k: 1 - h * f(t + h, u + h * k, jac=True),  # Производная по k\n",
    "        f(t, u))  # Начальное приближение\n",
    "    return u + h * k1\n",
    "\n",
    "imeuler.order = 1\n",
    "imeuler.name = 'Неявный Эйлер'\n",
    "\n",
    "\n",
    "def fixed_stepsize(f, y0, tmax, method, tau=0.1):\n",
    "    t = 0; u = y0\n",
    "    T = [0]; Y = [y0]\n",
    "    name = method.name\n",
    "    while t < tmax:\n",
    "        # Если последний шаг выхдит за tmax - уменьшаем tau\n",
    "        if t + tau > tmax: tau = tmax - t\n",
    "        u = method(f, tau, t, u)\n",
    "        t += tau;\n",
    "        T.append(t)\n",
    "        Y.append(u)\n",
    "    print('%s, всего шагов: %d'%(name, len(T)-1))\n",
    "    return np.array(T), np.array(Y)\n",
    "\n",
    "\n",
    "def adaptive_stepsize(f, y0, tmax, method, tol, tau=0.1):\n",
    "    t = 0\n",
    "    u = y0\n",
    "    T = [0]\n",
    "    Y = [y0]\n",
    "    p = method.order\n",
    "    name = method.name\n",
    "    failed = 0  # Число неудачных шагов\n",
    "    while t < tmax:\n",
    "        if t + tau > tmax: tau = tmax - t\n",
    "        u1 = method(f, tau, t, u)  # Целый шаг\n",
    "        u2 = method(f, tau / 2, t, u)\n",
    "        u2 = method(f, tau / 2, t + tau / 2, u2)  # Два полушага\n",
    "        err = np.linalg.norm(u1 - u2) / (1 - 2 ** -p)  # Правило Рунге\n",
    "        fac = (tol / err) ** (1 / (p + 1))  # Подстраиваем tau\n",
    "        taunew = tau * min(2, max(0.25, 0.8 * fac))\n",
    "        if err < tol:  # Ошибка мала, принимаем шаг\n",
    "            t += tau;\n",
    "            u = u1\n",
    "            T.append(t);\n",
    "            Y.append(u)\n",
    "        else:  # Если ошибка велика, повторяем шаг с новым tau\n",
    "            failed += 1\n",
    "        tau = taunew\n",
    "    print('%s, всего шагов: %d, отброшено: %d' % (name, len(T) - 1, failed))\n",
    "    return np.array(T), np.array(Y)\n",
    "\n",
    "\n",
    "tmax = 20\n",
    "problem_init = 0\n",
    "#T, Y = adaptive_stepsize(func_f, problem_init, tmax, imeuler, 1e-2)\n",
    "T, Y = fixed_stepsize(func_f, problem_init, tmax, imeuler, 1e-1)\n",
    "\n",
    "plt.plot(T,Y)\n",
    "plt.show()\n"
   ]
  }
 ],
 "metadata": {
  "anaconda-cloud": {},
  "kernelspec": {
   "display_name": "Python [default]",
   "language": "python",
   "name": "python2"
  }
 },
 "nbformat": 4,
 "nbformat_minor": 1
}
