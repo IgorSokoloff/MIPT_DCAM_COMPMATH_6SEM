{
 "cells": [
  {
   "cell_type": "markdown",
   "metadata": {},
   "source": [
    "# Task 2, problem 6 \n",
    "## Made by Igor Sokolov from 476 group"
   ]
  },
  {
   "cell_type": "markdown",
   "metadata": {},
   "source": [
    "Solve the nonstationary Schrödinger equation\n",
    "$$\n",
    "\\frac{\\partial \\Psi}{\\partial t} = \\frac{i}{200}\\frac{\\partial^2 u}{\\partial x^2},\\qquad 0\\leqslant x\\leqslant 1,\\qquad 0\\leqslant t\\leqslant 1.3,\\qquad i=\\sqrt{-1}\n",
    "$$\n",
    "with initial condition $$\\Psi\\Big|_{t=0}=exp\\left\\{100ix-\\frac{(x-0.3)^2}{0.01}\\right\\}$$\n",
    "and boundary conditions $$\\Psi\\Big|_{x=0}=\\Psi\\Big|_{x=1}=0$$\n",
    "\n",
    "using Krank-Nikolson scheme\n",
    "$$\\frac{\\Psi_{m}^{n+1}-\\Psi_{m}^{n}}{\\tau} = \\frac{i}{400}\\left[\\frac{\\Psi_{m-1}^{n+1}-2\\Psi_{m}^{n+1}+\\Psi_{m+1}^{n+1}}{h^2}+\\frac{\\Psi_{m-1}^{n}-2\\Psi_{m}^{n}+\\Psi_{m+1}^{n}}{h^2}\\right]$$\n",
    "\n",
    "$$\\Psi_{0}^{n+1}=\\Psi_{M}^{n+1}=0$$\n",
    "\n",
    "Let $M = 1000,\\;h = \\frac{1}{M},\\;\\tau=h\\;$\n",
    "\n"
   ]
  },
  {
   "cell_type": "code",
   "execution_count": 2,
   "metadata": {
    "collapsed": true
   },
   "outputs": [],
   "source": [
    "import numpy as np\n",
    "import matplotlib.pyplot as plt\n",
    "\n",
    "%matplotlib inline"
   ]
  },
  {
   "cell_type": "code",
   "execution_count": 43,
   "metadata": {
    "collapsed": false
   },
   "outputs": [
    {
     "data": {
      "image/png": "[encoded data removed]",
      "text/plain": [
       "<matplotlib.figure.Figure at 0x7fab0899ceb8>"
      ]
     },
     "metadata": {},
     "output_type": "display_data"
    }
   ],
   "source": [
    "M = 1000\n",
    "x = np.linspace(0, 1, M + 1)\n",
    "h = 1/M\n",
    "tau=h\n",
    "T = 1.3\n",
    "\n",
    "def init(x):\n",
    "    return np.exp(100j * x - (x - 0.3)**2/0.01)\n",
    "\n",
    "def boundary(left, right):\n",
    "    return complex(left), complex(right)\n",
    "\n",
    "def solve_tdm(a, b, c, f):\n",
    "    n = len(a)\n",
    "    P = np.zeros(n, dtype = 'complex'); Q = np.zeros(n, dtype = 'complex'); x = np.zeros(n, dtype = 'complex')\n",
    "    P[0] = -c[0] / b[0]\n",
    "    Q[0] = f[0] / b[0]\n",
    "    for k in range(n-1):\n",
    "        P[k+1] = -c[k+1] / (a[k+1] * P[k] + b[k+1])\n",
    "        Q[k+1] = (f[k+1] - a[k+1] * Q[k]) / (a[k+1] * P[k] + b[k+1])\n",
    "    x[n-1] = Q[n-1]\n",
    "    for k in reversed(range(n-1)):\n",
    "        x[k] = P[k] * x[k+1] + Q[k]\n",
    "    return x\n",
    "\n",
    "def krank_nikolson_scheme(T, psi0):\n",
    "    psi = init(x)\n",
    "    \n",
    "    psi[0], psi[-1] = boundary(0,0)\n",
    "    \n",
    "    t = 0\n",
    "    sigma = 1j/(400 *h**2) \n",
    "    \n",
    "    a = np.concatenate((np.array([0 + 1j*0]),np.ones((psi.shape[0] - 3), dtype = 'complex') * sigma))\n",
    "    b = -np.ones((psi.shape[0] - 2), dtype = 'complex')*(2*sigma + 1/tau)\n",
    "    c = np.concatenate((np.ones((psi.shape[0] - 3), dtype = 'complex') *1j/(400 *h**2), np.array([0 + 1j*0])))\n",
    "\n",
    "    while t < T:\n",
    "        f = psi[1:-1]*(2*sigma - 1/tau) - sigma*(np.concatenate((psi[2:-1], np.array([0 + 1j*0]))) + \n",
    "                                                                np.concatenate((np.array([0 + 1j*0]), psi[1:-2])))\n",
    "        psi[1:-1] = solve_tdm(a, b, c, f)\n",
    "        t +=tau\n",
    "    return psi\n",
    "\n",
    "Psi = np.abs(krank_nikolson_scheme(T, psi0))   \n",
    "plt.plot(x, Psi, label = \"T = \"+str(T))\n",
    "plt.legend()\n",
    "plt.show()\n"
   ]
  }
 ],
 "metadata": {
  "anaconda-cloud": {},
  "kernelspec": {
   "display_name": "Python 3",
   "language": "python",
   "name": "python3"
  },
  "language_info": {
   "codemirror_mode": {
    "name": "ipython",
    "version": 3
   },
   "file_extension": ".py",
   "mimetype": "text/x-python",
   "name": "python",
   "nbconvert_exporter": "python",
   "pygments_lexer": "ipython3",
   "version": "3.6.0"
  }
 },
 "nbformat": 4,
 "nbformat_minor": 1
}
