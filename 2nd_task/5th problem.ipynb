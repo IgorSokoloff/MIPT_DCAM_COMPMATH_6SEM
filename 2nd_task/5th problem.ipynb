{
 "cells": [
  {
   "cell_type": "markdown",
   "metadata": {},
   "source": [
    "# Task 2, problem 5 \n",
    "## Made by Igor Sokolov from 476 group"
   ]
  },
  {
   "cell_type": "markdown",
   "metadata": {},
   "source": [
    "Solve advection equation \n",
    "\n",
    "$$\n",
    "\\frac{\\partial u}{\\partial t} + \\frac{\\partial u}{\\partial x} = 0,\\qquad 0\\leqslant x\\leq 1,\\qquad 0\\leqslant t\\leqslant 0.5\n",
    "$$\n",
    "\n",
    "\n",
    "$$\n",
    "u\\big|_{t=0} = \\begin{cases}\n",
    "0, x>0.2 \\\\ \n",
    "1, x\\leqslant 0.2\\\\ \n",
    "\\end{cases}\n",
    "$$\n",
    "\n",
    "using next difference scheme:\n",
    "\n",
    "$$\n",
    "u_{0}^{n+1}=u_{1}^{n+1}=1\\\\\n",
    "u_{m}^{n+1} = (1 - \\sigma)u_{m}^{n} + \\sigma u_{m-1}^{n} + \\frac{\\sigma(\\sigma-1)}{2}(f(u_{m-1}^{n}, u_{m}^{n}, u_{m+1}^{n})-f(u_{m-2}^{n}, u_{m-1}^{n}, u_{m}^{n}))\n",
    "$$\n",
    "\n",
    "Let $M = 100,\\;h = \\frac{1}{M},\\;\\tau=\\frac{h}{2},\\; \\sigma=\\frac{\\tau}{h}=\\frac{1}{2}$\n",
    "\n",
    "\n",
    "$$f(x,y,z)=z-y$$"
   ]
  },
  {
   "cell_type": "code",
   "execution_count": 3,
   "metadata": {
    "collapsed": true
   },
   "outputs": [],
   "source": [
    "import numpy as np\n",
    "import matplotlib.pyplot as plt\n",
    "%matplotlib inline"
   ]
  },
  {
   "cell_type": "code",
   "execution_count": 5,
   "metadata": {
    "collapsed": false
   },
   "outputs": [
    {
     "data": {
      "image/png": "[encoded data removed]",
      "text/plain": [
       "<matplotlib.figure.Figure at 0x7ff6a6e96ac8>"
      ]
     },
     "metadata": {},
     "output_type": "display_data"
    }
   ],
   "source": [
    "def f(x, y, z):\n",
    "    return z - y\n",
    "\n",
    "def step(x):  # Начальное условие - ступенька\n",
    "    return np.double(x <= 0.2)\n",
    "\n",
    "def g(t):  # Левое граничное условие\n",
    "    return 1.0\n",
    "\n",
    "def solve_advection(u0, g, method, M=100, tmax=0.5, verbose=False):\n",
    "    X = np.linspace(0, 1, M + 1)\n",
    "    h = X[1] - X[0]\n",
    "    tau = h / 2\n",
    "    courant = tau / h\n",
    "\n",
    "    if verbose: print('Метод:', method.name, ', число Куранта cт/h =', courant)\n",
    "    # tau = courant * h   # Скорость с = 1\n",
    "    u = u0(X)  # Заполняем начальное условие\n",
    "\n",
    "    t = 0\n",
    "    steps = 0\n",
    "\n",
    "    while t < tmax:\n",
    "        if t + tau > tmax: tau = tmax - t + 1e-14\n",
    "        unext = np.empty_like(u)\n",
    "        unext[0] = g(t + tau)  # Используем в левом узле гран условия\n",
    "        unext[1] = unext[0]\n",
    "        # В остальных точках считаем по заданной схеме\n",
    "        unext[2:] = method(u, tau, h)\n",
    "        u = unext  # Переходим на новый слой по времени\n",
    "        t += tau;\n",
    "        steps += 1\n",
    "    if verbose: print('t =', t, ', сделано', steps, 'шагов')\n",
    "    return X, u\n",
    "\n",
    "def vendroff_lax_scheme(u, tau, h):\n",
    "    sigma = tau / h\n",
    "    u_new = np.zeros(len(u) - 3)\n",
    "\n",
    "    for i in range(2, len(u) - 2):\n",
    "        u_new[i - 2] = (1 - sigma) * u[i] + sigma * u[i - 1] + sigma / 2 * (sigma - 1) * (f(u[i - 1], u[i], u[i + 1]) - f(u[i - 2], u[i - 1], u[i]))\n",
    "\n",
    "    return np.append(u_new, [sigma * u[-2] + (1 - sigma) * u[-1]])  # Уголок в самой правой точке\n",
    "\n",
    "vendroff_lax_scheme.name = 'Схема Лакса-Вендроффа'\n",
    "\n",
    "X, u = solve_advection(step, g, vendroff_lax_scheme)\n",
    "plt.plot(X, u)\n",
    "plt.plot(X, step(X - 0.5))\n",
    "plt.show()\n"
   ]
  }
 ],
 "metadata": {
  "kernelspec": {
   "display_name": "Python 3",
   "language": "python",
   "name": "python3"
  },
  "language_info": {
   "codemirror_mode": {
    "name": "ipython",
    "version": 3
   },
   "file_extension": ".py",
   "mimetype": "text/x-python",
   "name": "python",
   "nbconvert_exporter": "python",
   "pygments_lexer": "ipython3",
   "version": "3.6.0"
  }
 },
 "nbformat": 4,
 "nbformat_minor": 2
}
